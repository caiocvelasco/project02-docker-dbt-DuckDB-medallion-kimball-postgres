{
 "cells": [
  {
   "cell_type": "code",
   "execution_count": 9,
   "metadata": {},
   "outputs": [
    {
     "name": "stdout",
     "output_type": "stream",
     "text": [
      "Schemas:\n",
      "           schema_name\n",
      "0               bronze\n",
      "1   information_schema\n",
      "2                 main\n",
      "3           pg_catalog\n",
      "4               public\n",
      "5   information_schema\n",
      "6                 main\n",
      "7           pg_catalog\n",
      "8   information_schema\n",
      "9                 main\n",
      "10          pg_catalog\n",
      "\n",
      "Tables:\n",
      "  table_schema            table_name\n",
      "0       bronze             customers\n",
      "1       bronze                 dates\n",
      "2       bronze              products\n",
      "3       bronze         product_usage\n",
      "4       bronze         subscriptions\n",
      "5       bronze  support_interactions\n",
      "6         main     test_duckdb_model\n",
      "7       public     test_duckdb_model\n",
      "   customer_id        name  age gender signup_date\n",
      "0          101    John Doe   30      M  2020-01-15\n",
      "1          102  Jane Smith   25      F  2019-06-20\n",
      "2          103   Sam Brown   40      M  2021-03-10\n",
      "3          104  Lisa White   35      F  2020-07-22\n",
      "4          105   Tom Clark   28      M  2018-11-05\n"
     ]
    }
   ],
   "source": [
    "import duckdb\n",
    "import pandas as pd\n",
    "\n",
    "# Path to your DuckDB database file\n",
    "duckdb_file_path = '/workspace/databases/dev.duckdb'\n",
    "\n",
    "# Use a context manager to handle the DuckDB connection\n",
    "with duckdb.connect(duckdb_file_path) as con:\n",
    "    # Query all schemas\n",
    "    query_schemas = \"SELECT schema_name FROM information_schema.schemata\"\n",
    "    schemas = con.execute(query_schemas).fetchdf()\n",
    "    \n",
    "    # Print the DataFrame of schemas\n",
    "    print(\"Schemas:\")\n",
    "    print(schemas)\n",
    "    \n",
    "    # Query all tables in each schema\n",
    "    query_tables = \"\"\"\n",
    "    SELECT table_schema, table_name \n",
    "    FROM information_schema.tables \n",
    "    WHERE table_schema IN (SELECT schema_name FROM information_schema.schemata)\n",
    "    \"\"\"\n",
    "    tables = con.execute(query_tables).fetchdf()\n",
    "    \n",
    "    # Print the DataFrame of tables\n",
    "    print(\"\\nTables:\")\n",
    "    print(tables)\n",
    "\n",
    "    # Check if the bronze schema exists\n",
    "    schema_check_query = \"SELECT schema_name FROM information_schema.schemata WHERE schema_name = 'bronze'\"\n",
    "    schema_exists = con.execute(schema_check_query).fetchone()\n",
    "    if schema_exists:\n",
    "        # Query the table created by dbt\n",
    "        query = \"SELECT * FROM bronze.customers LIMIT 5\"\n",
    "        result = con.execute(query).fetchdf()\n",
    "\n",
    "        # Check if the result is not empty and print the DataFrame\n",
    "        if not result.empty:\n",
    "            print(result)\n",
    "        else:\n",
    "            print(\"No records found in the customers table.\")\n",
    "    else:\n",
    "        print(\"The 'bronze' schema does not exist.\")"
   ]
  },
  {
   "cell_type": "code",
   "execution_count": null,
   "metadata": {},
   "outputs": [],
   "source": [
    "# Use a context manager to handle the DuckDB connection\n",
    "with duckdb.connect(duckdb_file_path) as con:\n",
    "    # Query to delete tables\n",
    "    query_delete_bronze = \"DROP SCHEMA bronze CASCADE;\"\n",
    "    query_delete_silver = \"DROP SCHEMA SILVER CASCADE;\"\n",
    "    query_delete_gold = \"DROP SCHEMA GOLD CASCADE;\"\n",
    "    con.execute(query_delete_bronze)\n",
    "    con.execute(query_delete_silver)\n",
    "    con.execute(query_delete_gold)"
   ]
  }
 ],
 "metadata": {
  "kernelspec": {
   "display_name": "Python 3",
   "language": "python",
   "name": "python3"
  },
  "language_info": {
   "codemirror_mode": {
    "name": "ipython",
    "version": 3
   },
   "file_extension": ".py",
   "mimetype": "text/x-python",
   "name": "python",
   "nbconvert_exporter": "python",
   "pygments_lexer": "ipython3",
   "version": "3.9.13"
  }
 },
 "nbformat": 4,
 "nbformat_minor": 2
}
