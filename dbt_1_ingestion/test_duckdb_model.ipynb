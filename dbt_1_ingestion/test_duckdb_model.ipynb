{
 "cells": [
  {
   "cell_type": "code",
   "execution_count": 1,
   "metadata": {},
   "outputs": [
    {
     "name": "stdout",
     "output_type": "stream",
     "text": [
      "[(101, 'John Doe', 30, 'M', datetime.date(2020, 1, 15)), (102, 'Jane Smith', 25, 'F', datetime.date(2019, 6, 20)), (103, 'Sam Brown', 40, 'M', datetime.date(2021, 3, 10)), (104, 'Lisa White', 35, 'F', datetime.date(2020, 7, 22)), (105, 'Tom Clark', 28, 'M', datetime.date(2018, 11, 5)), (106, 'Emily Johnson', 33, 'F', datetime.date(2017, 9, 14)), (107, 'Michael Lee', 42, 'M', datetime.date(2019, 2, 28)), (108, 'Sarah Davis', 29, 'F', datetime.date(2022, 4, 3)), (109, 'Robert Martinez', 37, 'M', datetime.date(2016, 8, 19)), (110, 'Jennifer Rodriguez', 31, 'F', datetime.date(2020, 10, 12)), (111, 'David Wilson', 26, 'M', datetime.date(2018, 5, 25)), (112, 'Amy Taylor', 39, 'F', datetime.date(2017, 12, 30)), (113, 'James Anderson', 34, 'M', datetime.date(2021, 7, 17)), (114, 'Amanda Thomas', 27, 'F', datetime.date(2019, 11, 8)), (115, 'Christopher Garcia', 38, 'M', datetime.date(2020, 3, 1)), (116, 'Mary Hernandez', 32, 'F', datetime.date(2018, 1, 22)), (117, 'Matthew Martinez', 29, 'M', datetime.date(2017, 4, 5)), (118, 'Laura Robinson', 41, 'F', datetime.date(2021, 8, 9)), (119, 'Daniel Lewis', 24, 'M', datetime.date(2019, 10, 27)), (120, 'Melissa Walker', 36, 'F', datetime.date(2018, 6, 14)), (121, 'Joshua Hall', 30, 'M', datetime.date(2017, 2, 18)), (122, 'Kimberly Young', 43, 'F', datetime.date(2020, 9, 3)), (123, 'Andrew Allen', 25, 'M', datetime.date(2016, 12, 11)), (124, 'Michelle King', 37, 'F', datetime.date(2019, 5, 24)), (125, 'William Wright', 31, 'M', datetime.date(2018, 3, 7)), (126, 'Stephanie Scott', 28, 'F', datetime.date(2017, 7, 30)), (127, 'Jason Green', 39, 'M', datetime.date(2021, 11, 19)), (128, 'Rebecca Baker', 33, 'F', datetime.date(2018, 10, 2)), (129, 'Brian Adams', 26, 'M', datetime.date(2017, 3, 15)), (130, 'Samantha Nelson', 40, 'F', datetime.date(2019, 8, 26)), (131, 'Charles Campbell', 35, 'M', datetime.date(2016, 5, 9)), (132, 'Heather Hill', 29, 'F', datetime.date(2020, 12, 14)), (133, 'Mark Mitchell', 42, 'M', datetime.date(2018, 9, 5)), (134, 'Ashley Ramirez', 27, 'F', datetime.date(2017, 1, 28)), (135, 'Ryan Roberts', 38, 'M', datetime.date(2021, 4, 23)), (136, 'Nicole Carter', 32, 'F', datetime.date(2019, 12, 16)), (137, 'Jonathan Torres', 24, 'M', datetime.date(2018, 2, 9)), (138, 'Elizabeth Morris', 41, 'F', datetime.date(2017, 6, 2)), (139, 'Nathan Parker', 30, 'M', datetime.date(2020, 10, 5)), (140, 'Amy Rivera', 25, 'F', datetime.date(2019, 4, 18)), (141, 'Donald Ward', 36, 'M', datetime.date(2018, 7, 11)), (142, 'Angela Coleman', 43, 'F', datetime.date(2017, 10, 24)), (143, 'Joshua Reed', 31, 'M', datetime.date(2022, 1, 31)), (144, 'Linda Bell', 28, 'F', datetime.date(2020, 4, 4)), (145, 'Justin Cooper', 39, 'M', datetime.date(2018, 11, 27)), (146, 'Tiffany Hayes', 33, 'F', datetime.date(2017, 3, 20)), (147, 'Brandon Russell', 40, 'M', datetime.date(2019, 9, 13)), (148, 'Catherine Barnes', 26, 'F', datetime.date(2018, 1, 6)), (149, 'Patrick Foster', 37, 'M', datetime.date(2016, 6, 29)), (150, 'Christina Ross', 34, 'F', datetime.date(2020, 8, 22))]\n"
     ]
    }
   ],
   "source": [
    "import duckdb\n",
    "\n",
    "# Connect to your DuckDB database\n",
    "con = duckdb.connect('/workspace/databases/dev.duckdb')\n",
    "\n",
    "# Query the table created by dbt\n",
    "result = con.execute(\"SELECT * FROM bronze.customers\").fetchall()\n",
    "\n",
    "print(result)"
   ]
  }
 ],
 "metadata": {
  "kernelspec": {
   "display_name": "Python 3",
   "language": "python",
   "name": "python3"
  },
  "language_info": {
   "codemirror_mode": {
    "name": "ipython",
    "version": 3
   },
   "file_extension": ".py",
   "mimetype": "text/x-python",
   "name": "python",
   "nbconvert_exporter": "python",
   "pygments_lexer": "ipython3",
   "version": "3.9.13"
  }
 },
 "nbformat": 4,
 "nbformat_minor": 2
}
