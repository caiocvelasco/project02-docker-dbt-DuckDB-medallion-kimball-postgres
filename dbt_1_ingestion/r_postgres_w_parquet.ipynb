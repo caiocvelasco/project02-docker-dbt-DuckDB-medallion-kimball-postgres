{
 "cells": [
  {
   "cell_type": "markdown",
   "metadata": {},
   "source": [
    "## Setting Up PostgreSQL Connection and writing to Parquet"
   ]
  },
  {
   "cell_type": "code",
   "execution_count": 1,
   "metadata": {},
   "outputs": [
    {
     "name": "stdout",
     "output_type": "stream",
     "text": [
      "   Count\n",
      "0     50\n"
     ]
    }
   ],
   "source": [
    "import duckdb\n",
    "import pandas as pd\n",
    "\n",
    "# Path to your DuckDB database file\n",
    "duckdb_file_path = '/workspace/databases/dev.duckdb'\n",
    "\n",
    "# Use a context manager to handle the DuckDB connection\n",
    "# -> Check: https://duckdb.org/docs/extensions/postgres\n",
    "# -> ATTACH connect to the Postgres instance\n",
    "# -> postgres_db: name of the table in DuckDB that will hold data of the Postgres table\n",
    "# -> COPY: will write the table in Parquet format\n",
    "with duckdb.connect(duckdb_file_path) as con:\n",
    "    query_2 = \"\"\"\n",
    "              ATTACH 'dbname=mydatabase user=myuser host=postgres port=5432 password=mypassword' \n",
    "              AS postgres_db (TYPE POSTGRES, READ_ONLY); \n",
    "              SELECT * FROM postgres_db.raw.customers;\n",
    "              COPY postgres_db.raw.customers TO '/workspace/external_ingestion/bronze_parquet_output/customers.parquet';\n",
    "              \"\"\"\n",
    "    output_2 = con.execute(query_2).fetchdf()\n",
    "    print(output_2)"
   ]
  },
  {
   "cell_type": "code",
   "execution_count": null,
   "metadata": {},
   "outputs": [],
   "source": [
    "import duckdb\n",
    "import pandas as pd\n",
    "\n",
    "# Path to your DuckDB database file\n",
    "duckdb_file_path = '/workspace/databases/dev.duckdb'\n",
    "\n",
    "# Use a context manager to handle the DuckDB connection\n",
    "# -> Check: https://duckdb.org/docs/extensions/postgres\n",
    "# -> ATTACH connect to the Postgres instance.\n",
    "# -> postgres_db: name of the table in DuckDB that will hold data of the Postgres table\n",
    "# -> COPY: will write the table in Parquet format\n",
    "with duckdb.connect(duckdb_file_path) as con:\n",
    "    query_2 = \"\"\"\n",
    "              ATTACH '' \n",
    "              AS postgres_db (TYPE POSTGRES, READ_ONLY); \n",
    "              SELECT * FROM postgres_db.raw.customers;\n",
    "              COPY postgres_db.raw.customers TO '/workspace/external_ingestion/bronze_parquet_output/customers.parquet';\n",
    "              \"\"\"\n",
    "    output_2 = con.execute(query_2).fetchdf()\n",
    "    print(output_2)"
   ]
  }
 ],
 "metadata": {
  "kernelspec": {
   "display_name": "Python 3",
   "language": "python",
   "name": "python3"
  },
  "language_info": {
   "codemirror_mode": {
    "name": "ipython",
    "version": 3
   },
   "file_extension": ".py",
   "mimetype": "text/x-python",
   "name": "python",
   "nbconvert_exporter": "python",
   "pygments_lexer": "ipython3",
   "version": "3.9.13"
  }
 },
 "nbformat": 4,
 "nbformat_minor": 2
}
