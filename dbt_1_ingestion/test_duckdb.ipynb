{
 "cells": [
  {
   "cell_type": "code",
   "execution_count": null,
   "metadata": {},
   "outputs": [],
   "source": [
    "import duckdb\n",
    "import pandas as pd\n",
    "\n",
    "# Path to your DuckDB database file\n",
    "duckdb_file_path = '/workspace/databases/dev.duckdb'"
   ]
  },
  {
   "cell_type": "code",
   "execution_count": null,
   "metadata": {},
   "outputs": [],
   "source": [
    "# Use a context manager to handle the DuckDB connection\n",
    "with duckdb.connect(duckdb_file_path) as con:\n",
    "    # Query all schemas\n",
    "    query_dbs = \"SHOW DATABASES;\"\n",
    "    dbs = con.execute(query_dbs).fetchdf()\n",
    "    \n",
    "    # Print the DataFrame of schemas\n",
    "    print(\"Databases:\")\n",
    "    print(dbs)"
   ]
  },
  {
   "cell_type": "code",
   "execution_count": null,
   "metadata": {},
   "outputs": [],
   "source": [
    "# Use a context manager to handle the DuckDB connection\n",
    "with duckdb.connect(duckdb_file_path) as con:\n",
    "    # Query all schemas\n",
    "    query_schemas = \"SELECT * FROM information_schema.schemata\"\n",
    "    schemas = con.execute(query_schemas).fetchdf()\n",
    "    \n",
    "    # Print the DataFrame of schemas\n",
    "    print(\"Schemas:\")\n",
    "    print(schemas)\n",
    "    \n",
    "    # Query all tables in each schema\n",
    "    query_tables = \"\"\"\n",
    "    SELECT table_schema, table_name \n",
    "    FROM information_schema.tables \n",
    "    WHERE table_schema IN (SELECT schema_name FROM information_schema.schemata)\n",
    "    \"\"\"\n",
    "    tables = con.execute(query_tables).fetchdf()\n",
    "    \n",
    "    # Print the DataFrame of tables\n",
    "    print(\"\\nTables:\")\n",
    "    print(tables)\n",
    "\n"
   ]
  },
  {
   "cell_type": "code",
   "execution_count": null,
   "metadata": {},
   "outputs": [],
   "source": [
    "# Check if an schema exists\n",
    "with duckdb.connect(duckdb_file_path) as con:\n",
    "    schema_check_query = \"SELECT schema_name FROM information_schema.schemata WHERE schema_name = 'dbt_caio'\"\n",
    "    schema_exists = con.execute(schema_check_query).fetchone()\n",
    "    if schema_exists:\n",
    "        # Query the table created by dbt\n",
    "        query = \"SELECT * FROM dbt_caio.customers LIMIT 5\"\n",
    "        result = con.execute(query).fetchdf()\n",
    "\n",
    "        # Check if the result is not empty and print the DataFrame\n",
    "        if not result.empty:\n",
    "            print(result)\n",
    "        else:\n",
    "            print(\"No records found in the customers table.\")\n",
    "    else:\n",
    "        print(\"The 'dbt_caio' schema does not exist.\")"
   ]
  },
  {
   "cell_type": "code",
   "execution_count": null,
   "metadata": {},
   "outputs": [],
   "source": [
    "# Use a context manager to handle the DuckDB connection\n",
    "with duckdb.connect(duckdb_file_path) as con:\n",
    "    # Query to delete tables\n",
    "    # query_delete_bronze = \"DROP SCHEMA raw CASCADE;\"\n",
    "    query_delete_dbt_caio = \"DROP SCHEMA dbt_caio CASCADE;\"\n",
    "    # query_delete_bronze = \"DROP SCHEMA bronze CASCADE;\"\n",
    "    # query_delete_silver = \"DROP SCHEMA silver CASCADE;\"\n",
    "    # query_delete_gold = \"DROP SCHEMA gold CASCADE;\"\n",
    "    con.execute(query_delete_dbt_caio)\n",
    "    # con.execute(query_delete_bronze)\n",
    "    # con.execute(query_delete_silver)\n",
    "    # con.execute(query_delete_gold)"
   ]
  }
 ],
 "metadata": {
  "kernelspec": {
   "display_name": "Python 3",
   "language": "python",
   "name": "python3"
  },
  "language_info": {
   "codemirror_mode": {
    "name": "ipython",
    "version": 3
   },
   "file_extension": ".py",
   "mimetype": "text/x-python",
   "name": "python",
   "nbconvert_exporter": "python",
   "pygments_lexer": "ipython3",
   "version": "3.9.13"
  }
 },
 "nbformat": 4,
 "nbformat_minor": 2
}
